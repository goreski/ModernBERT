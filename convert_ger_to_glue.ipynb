{
 "cells": [
  {
   "cell_type": "code",
   "execution_count": 5,
   "metadata": {},
   "outputs": [
    {
     "name": "stdout",
     "output_type": "stream",
     "text": [
      "    0   1    2    3     4    5    6   7    8     9   ...    11  12    13  \\\n",
      "0  A11   6  A34  A43  1169  A65  A75   4  A93  A101  ...  A121  67  A143   \n",
      "1  A12  48  A32  A43  5951  A61  A73   2  A92  A101  ...  A121  22  A143   \n",
      "2  A14  12  A34  A46  2096  A61  A74   2  A93  A101  ...  A121  49  A143   \n",
      "3  A11  42  A32  A42  7882  A61  A74   2  A93  A103  ...  A122  45  A143   \n",
      "4  A11  24  A33  A40  4870  A61  A73   3  A93  A101  ...  A124  53  A143   \n",
      "\n",
      "     14 15    16 17    18    19 20  \n",
      "0  A152  2  A173  1  A192  A201  1  \n",
      "1  A152  1  A173  1  A191  A201  2  \n",
      "2  A152  1  A172  2  A191  A201  1  \n",
      "3  A153  1  A173  2  A191  A201  1  \n",
      "4  A153  2  A173  2  A191  A201  2  \n",
      "\n",
      "[5 rows x 21 columns]\n",
      "                                      question  \\\n",
      "0  Is the credit worthiness of the person bad?   \n",
      "1  Is the credit worthiness of the person bad?   \n",
      "2  Is the credit worthiness of the person bad?   \n",
      "3  Is the credit worthiness of the person bad?   \n",
      "4  Is the credit worthiness of the person bad?   \n",
      "\n",
      "                                            sentence  label  idx  \n",
      "0  A11 6 A34 A43 1169 A65 A75 4 A93 A101 4 A121 6...      0    0  \n",
      "1  A12 48 A32 A43 5951 A61 A73 2 A92 A101 2 A121 ...      1    1  \n",
      "2  A14 12 A34 A46 2096 A61 A74 2 A93 A101 3 A121 ...      0    2  \n",
      "3  A11 42 A32 A42 7882 A61 A74 2 A93 A103 4 A122 ...      0    3  \n",
      "4  A11 24 A33 A40 4870 A61 A73 3 A93 A101 4 A124 ...      1    4  \n"
     ]
    }
   ],
   "source": [
    "# Download German Credit Data from UCI Machine Learning Repository\n",
    "\n",
    "import pandas as pd\n",
    "import requests\n",
    "\n",
    "url = 'https://archive.ics.uci.edu/ml/machine-learning-databases/statlog/german/german.data'\n",
    "response = requests.get(url)\n",
    "data = response.text\n",
    "df = pd.read_csv(url, sep=' ', header=None)\n",
    "\n",
    "# Convert dataset to Glue structure Question \"question sentence label idx\"\n",
    "# question is \"Is the credit worthiness of the person bad?\"\n",
    "# sentence is the text created from the dataset\n",
    "# label is 1 for bad and 0 for good \n",
    "# idx is the index of the row in the dataset\n",
    "\n",
    "df['question'] = 'Is the credit worthiness of the person bad?'\n",
    "df['sentence'] = df.apply(lambda row: ' '.join([str(x) for x in row[:-2]]), axis=1)\n",
    "df['label'] = df[20].apply(lambda x: 1 if x == 2 else 0)\n",
    "df['idx'] = df.index\n",
    "df = df[['question', 'sentence', 'label', 'idx']]\n",
    "\n",
    "print(df.head())\n",
    "\n",
    "\n"
   ]
  }
 ],
 "metadata": {
  "kernelspec": {
   "display_name": "bert24",
   "language": "python",
   "name": "python3"
  },
  "language_info": {
   "codemirror_mode": {
    "name": "ipython",
    "version": 3
   },
   "file_extension": ".py",
   "mimetype": "text/x-python",
   "name": "python",
   "nbconvert_exporter": "python",
   "pygments_lexer": "ipython3",
   "version": "3.11.9"
  }
 },
 "nbformat": 4,
 "nbformat_minor": 2
}
